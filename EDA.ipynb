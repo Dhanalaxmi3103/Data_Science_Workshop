{
  "nbformat": 4,
  "nbformat_minor": 0,
  "metadata": {
    "colab": {
      "provenance": [],
      "collapsed_sections": [
        "FAwxNB-M75yn",
        "Ia5wlPSCIlJp",
        "8wrNr8u0Na6J"
      ],
      "include_colab_link": true
    },
    "kernelspec": {
      "name": "python3",
      "display_name": "Python 3"
    },
    "language_info": {
      "name": "python"
    }
  },
  "cells": [
    {
      "cell_type": "markdown",
      "metadata": {
        "id": "view-in-github",
        "colab_type": "text"
      },
      "source": [
        "<a href=\"https://colab.research.google.com/github/Dhanalaxmi3103/Data_Science_Workshop/blob/main/EDA.ipynb\" target=\"_parent\"><img src=\"https://colab.research.google.com/assets/colab-badge.svg\" alt=\"Open In Colab\"/></a>"
      ]
    },
    {
      "cell_type": "code",
      "execution_count": null,
      "metadata": {
        "id": "ijKXJMqHnsU1"
      },
      "outputs": [],
      "source": [
        "import pandas as pd\n",
        "import matplotlib.pyplot as plt\n",
        "import seaborn as sns\n",
        "import numpy as np\n",
        "from scipy.stats import norm\n",
        "from sklearn.preprocessing import StandardScaler\n",
        "from scipy import stats"
      ]
    },
    {
      "cell_type": "code",
      "source": [
        "from google.colab import drive\n",
        "drive.mount('/content/drive')"
      ],
      "metadata": {
        "id": "NjRqsJPhpFXH"
      },
      "execution_count": null,
      "outputs": []
    },
    {
      "cell_type": "code",
      "source": [
        "from google.colab import files\n",
        "uploaded = files.upload()"
      ],
      "metadata": {
        "id": "4ND8CMLWpGh5"
      },
      "execution_count": null,
      "outputs": []
    },
    {
      "cell_type": "code",
      "source": [
        "df_train = pd.read_csv('/content/train_data.csv')\n",
        "df_train"
      ],
      "metadata": {
        "id": "jctRCKjMoVCX"
      },
      "execution_count": null,
      "outputs": []
    },
    {
      "cell_type": "markdown",
      "source": [
        "# Data Cleaning"
      ],
      "metadata": {
        "id": "FAwxNB-M75yn"
      }
    },
    {
      "cell_type": "code",
      "source": [
        "#missing Data\n",
        "total= df_train.isnull().sum().sort_values(ascending=False)\n",
        "percent= (df_train.isnull().sum()/df_train.isnull().count()).sort_values(ascending=False)\n",
        "missing_data= pd.concat([total, percent], axis=1, keys=['Total', 'Percent'])\n",
        "missing_data.head(20)"
      ],
      "metadata": {
        "id": "huWYjfRm736d"
      },
      "execution_count": null,
      "outputs": []
    },
    {
      "cell_type": "code",
      "source": [
        "#dealing with missing data\n",
        "df_train = df_train.drop((missing_data[missing_data['Total'] > 1]).index,axis=1)\n",
        "df_train = df_train.drop(df_train.loc[df_train['Electrical'].isnull()].index)\n",
        "df_train.isnull().sum().max() #just checking that there is no missing data"
      ],
      "metadata": {
        "id": "zZaQmmKK5Qjd"
      },
      "execution_count": null,
      "outputs": []
    },
    {
      "cell_type": "code",
      "source": [
        "df_train"
      ],
      "metadata": {
        "id": "jnI5SovqCiiH"
      },
      "execution_count": null,
      "outputs": []
    },
    {
      "cell_type": "code",
      "source": [
        "df_train['SalePrice']"
      ],
      "metadata": {
        "id": "kNwqfef5EdGn"
      },
      "execution_count": null,
      "outputs": []
    },
    {
      "cell_type": "code",
      "source": [
        "#descriptive statistic summary\n",
        "df_train[\"SalePrice\"].describe()"
      ],
      "metadata": {
        "id": "NBX9Dyv-EAuv"
      },
      "execution_count": null,
      "outputs": []
    },
    {
      "cell_type": "markdown",
      "source": [
        "#univariate Analysis"
      ],
      "metadata": {
        "id": "Ia5wlPSCIlJp"
      }
    },
    {
      "cell_type": "code",
      "source": [
        "plt.hist(df_train['SalePrice'], color='blue')"
      ],
      "metadata": {
        "id": "cQ1aWVSSIqch"
      },
      "execution_count": null,
      "outputs": []
    },
    {
      "cell_type": "code",
      "source": [
        "print(\"Skewness :\",df_train['SalePrice'].skew())\n",
        "#print(\"Kurtos :\",df_train['SalePrice'].kurt())"
      ],
      "metadata": {
        "id": "KOnc8SHLJI2o"
      },
      "execution_count": null,
      "outputs": []
    },
    {
      "cell_type": "code",
      "source": [
        "#statndardizing the data\n",
        "salesprice_Scaled=StandardScaler().fit_transform(df_train['SalePrice'].values.reshape(-1, 1));\n",
        "print(salesprice_Scaled)\n",
        "low_Range=salesprice_Scaled[salesprice_Scaled[:,0].argsort()][:10]\n",
        "high_Range=salesprice_Scaled[salesprice_Scaled[:,0].argsort()][-10:]\n",
        "print('outer range (low) of the distribution:')\n",
        "print(low_Range)\n",
        "print('outer range (high) of the distribution:')\n",
        "print(high_Range)"
      ],
      "metadata": {
        "id": "GnvwqXgvKayi"
      },
      "execution_count": null,
      "outputs": []
    },
    {
      "cell_type": "markdown",
      "source": [
        "# Bivariate Analysis"
      ],
      "metadata": {
        "id": "8wrNr8u0Na6J"
      }
    },
    {
      "cell_type": "code",
      "source": [
        "#bivariate Analysis salesprice/grlivarea\n",
        "var='GrLivArea'\n",
        "data= pd.concat([df_train['SalePrice'], df_train[var]], axis=1)\n",
        "print(data)\n",
        "data.plot.scatter(x=var, y='SalePrice', ylim=(0,800000));"
      ],
      "metadata": {
        "id": "m_MLjhaGNd16"
      },
      "execution_count": null,
      "outputs": []
    },
    {
      "cell_type": "code",
      "source": [
        "df_train['Id'] = range(1, len(df_train) + 1)\n",
        "print(df_train['Id'])"
      ],
      "metadata": {
        "id": "4UQRvXzQR4hM"
      },
      "execution_count": null,
      "outputs": []
    },
    {
      "cell_type": "code",
      "source": [
        "#deleting points\n",
        "df_train.sort_values(by = 'GrLivArea', ascending = False)[:2]\n",
        "df_train = df_train.drop(df_train[df_train['Id'] == 1166].index)\n",
        "df_train = df_train.drop(df_train[df_train['Id'] == 466].index)"
      ],
      "metadata": {
        "id": "pUnFIUChO1sv"
      },
      "execution_count": null,
      "outputs": []
    },
    {
      "cell_type": "code",
      "source": [
        "#scatterplot TotalBsmtSF/SalesPrice\n",
        "var='TotalBsmtSF'\n",
        "data=pd.concat([df_train['SalePrice'], df_train[var]], axis=1)\n",
        "data.plot.scatter(x=var, y='SalePrice', ylim=(0,800000));"
      ],
      "metadata": {
        "id": "HLuLiyGnSlhT"
      },
      "execution_count": null,
      "outputs": []
    }
  ]
}